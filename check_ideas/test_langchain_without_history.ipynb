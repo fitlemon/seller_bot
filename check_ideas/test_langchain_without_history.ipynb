{
 "cells": [
  {
   "cell_type": "code",
   "execution_count": 166,
   "metadata": {},
   "outputs": [],
   "source": [
    "from environs import Env\n",
    "\n",
    "from langchain_openai import ChatOpenAI\n",
    "from langchain_openai import OpenAIEmbeddings\n",
    "from langchain.memory import ConversationBufferMemory, ConversationBufferWindowMemory, ConversationSummaryMemory, ConversationTokenBufferMemory\n",
    "from langchain.chains import ConversationChain, LLMChain\n",
    "from langchain.embeddings.huggingface import HuggingFaceInstructEmbeddings\n",
    "from langchain.vectorstores.faiss import FAISS\n",
    "from langchain.text_splitter import CharacterTextSplitter\n",
    "from langchain.prompts.prompt import PromptTemplate\n",
    "from typing import List, Dict, Any"
   ]
  },
  {
   "cell_type": "code",
   "execution_count": 167,
   "metadata": {},
   "outputs": [],
   "source": [
    "class CustomConversationTokenBufferMemory(ConversationTokenBufferMemory):\n",
    "    def clear(self):\n",
    "        super().clear()\n",
    "        buffer = self.chat_memory.messages\n",
    "        curr_buffer_length = self.llm.get_num_tokens_from_messages(buffer)\n",
    "        while curr_buffer_length > self.max_token_limit:\n",
    "            buffer.pop(0)\n",
    "            curr_buffer_length = self.llm.get_num_tokens_from_messages(buffer)\n",
    "    \n",
    "    extra_variables:List[str] = []\n",
    "\n",
    "    @property\n",
    "    def memory_variables(self) -> List[str]:\n",
    "        \"\"\"Will always return list of memory variables.\"\"\"\n",
    "        return [self.memory_key] + self.extra_variables\n",
    "\n",
    "    def load_memory_variables(self, inputs: Dict[str, Any]) -> Dict[str, Any]:\n",
    "        \"\"\"Return buffer with history and extra variables\"\"\"\n",
    "        d = super().load_memory_variables(inputs)\n",
    "        d.update({k:inputs.get(k) for k in self.extra_variables})        \n",
    "        return d"
   ]
  },
  {
   "cell_type": "code",
   "execution_count": 2,
   "metadata": {},
   "outputs": [
    {
     "data": {
      "text/plain": [
       "True"
      ]
     },
     "execution_count": 2,
     "metadata": {},
     "output_type": "execute_result"
    }
   ],
   "source": [
    "# import env config file\n",
    "env = Env()\n",
    "env.read_env('../.env', recurse=False)"
   ]
  },
  {
   "cell_type": "markdown",
   "metadata": {},
   "source": [
    "### Чтение системного промпта - инструкции с файла"
   ]
  },
  {
   "cell_type": "code",
   "execution_count": 179,
   "metadata": {},
   "outputs": [],
   "source": [
    "with open('../docs/system_prompt.txt', 'r') as f:\n",
    "    system_prompt = f.read()"
   ]
  },
  {
   "cell_type": "markdown",
   "metadata": {},
   "source": [
    "### Чтение скрипта продаж"
   ]
  },
  {
   "cell_type": "code",
   "execution_count": 178,
   "metadata": {},
   "outputs": [],
   "source": [
    "with open('../docs/train_script.txt', 'r') as f:\n",
    "    scripts_text = f.read()"
   ]
  },
  {
   "cell_type": "markdown",
   "metadata": {},
   "source": [
    "### Цепь общения с сохранением истории"
   ]
  },
  {
   "cell_type": "code",
   "execution_count": 473,
   "metadata": {},
   "outputs": [],
   "source": [
    "def get_conversation_chain_history(prompt_template, verbose=False):\n",
    "    llm = ChatOpenAI(openai_api_key=env(\"OPENAI_TOKEN\"), temperature=0.7)\n",
    "    # conversation = LLMChain(llm=llm, prompt=prompt_template)\n",
    "    conversation = ConversationChain(\n",
    "    llm=llm, verbose=verbose, prompt=prompt_template, memory=CustomConversationTokenBufferMemory(max_token_limit=200,llm=llm, human_prefix=\"Клиент\", ai_prefix=\"AI ассистент\", extra_variables=[\"scripts_text\", \"system_prompt\"]))\n",
    "    return conversation"
   ]
  },
  {
   "cell_type": "markdown",
   "metadata": {},
   "source": [
    "### Цепь общения с сохранением последнего вопроса-ответа"
   ]
  },
  {
   "cell_type": "code",
   "execution_count": 129,
   "metadata": {},
   "outputs": [],
   "source": [
    "def get_conversation_chain_window(prompt_template, verbose=False):\n",
    "    llm = ChatOpenAI(openai_api_key=env(\"OPENAI_TOKEN\"), temperature=0.7)\n",
    "    conversation = ConversationChain(\n",
    "    llm=llm, verbose=verbose, prompt=prompt_template, memory=ConversationBufferWindowMemory(k=1, human_prefix=\"Клиент\", ai_prefix=\"AI ассистент\")\n",
    ")\n",
    "    return conversation"
   ]
  },
  {
   "cell_type": "markdown",
   "metadata": {},
   "source": [
    "### Цепь общения с сохранением контекста истории общения"
   ]
  },
  {
   "cell_type": "code",
   "execution_count": 140,
   "metadata": {},
   "outputs": [],
   "source": [
    "def get_conversation_chain_summary(prompt_template, verbose=False):\n",
    "    llm = ChatOpenAI(openai_api_key=env(\"OPENAI_TOKEN\"), temperature=0.7)\n",
    "    conversation = ConversationChain(\n",
    "    llm=llm, verbose=verbose, prompt=prompt_template, memory=ConversationSummaryMemory(llm=llm)\n",
    ")\n",
    "    return conversation"
   ]
  },
  {
   "cell_type": "markdown",
   "metadata": {},
   "source": [
    "### Сборка промпта"
   ]
  },
  {
   "cell_type": "code",
   "execution_count": 173,
   "metadata": {},
   "outputs": [],
   "source": [
    "template = \"\"\"{system_prompt}\\n\n",
    "Скрипт продаж:\\n\n",
    "{scripts_text}\\n\n",
    "\n",
    "\n",
    "История общения с текущим клиентом: \\n\n",
    "{history}\\n\n",
    "Вопрос: \\n\n",
    "{input} \\n\n",
    "Ответ:\\n\n",
    "\n",
    "\"\"\"\n",
    "prompt_template = PromptTemplate(\n",
    "    input_variables= [\"scripts_text\", \"system_prompt\",  \"history\", \"input\"],\n",
    "    template=template,\n",
    "  \n",
    ")"
   ]
  },
  {
   "cell_type": "markdown",
   "metadata": {},
   "source": [
    "### Новая цепочка общения"
   ]
  },
  {
   "cell_type": "code",
   "execution_count": 474,
   "metadata": {},
   "outputs": [],
   "source": [
    "# create conversation chain\n",
    "state = get_conversation_chain_history(prompt_template, verbose=False)"
   ]
  },
  {
   "cell_type": "code",
   "execution_count": 477,
   "metadata": {},
   "outputs": [
    {
     "data": {
      "text/plain": [
       "'Приятно познакомиться, Дима! Чем я могу вам помочь?'"
      ]
     },
     "execution_count": 477,
     "metadata": {},
     "output_type": "execute_result"
    }
   ],
   "source": [
    "state.invoke( input=\"Меня зовут Дима\", verbose=False)['response']"
   ]
  },
  {
   "cell_type": "code",
   "execution_count": 439,
   "metadata": {},
   "outputs": [
    {
     "data": {
      "text/plain": [
       "{'history': 'AI ассистент: whats up\\nКлиент: hdadadadidadadaaaa\\nAI ассистент: whats up\\nКлиент: hdadadadidadadaaaa\\nAI ассистент: whats up\\nКлиент: hdadadadidadadaaaa\\nAI ассистент: whats up\\nКлиент: hdadadadidadadaaaa\\nAI ассистент: whats up\\nКлиент: hdadadadidadadaaaa\\nAI ассистент: whats up\\nКлиент: hdadadadidadadaaaa\\nAI ассистент: whats up\\nКлиент: hdadadadidadadaaaa\\nAI ассистент: whats up\\nКлиент: hdadadadidadadaaaa\\nAI ассистент: whats up\\nКлиент: hdadadadidadadaaaa\\nAI ассистент: whats up',\n",
       " 'scripts_text': None,\n",
       " 'system_prompt': None}"
      ]
     },
     "execution_count": 439,
     "metadata": {},
     "output_type": "execute_result"
    }
   ],
   "source": [
    "state.memory.save_context({\"input\": \"hdadadadidadadaaaa\"}, {\"output\": \"whats up\"})\n",
    "state.memory.load_memory_variables({})"
   ]
  },
  {
   "cell_type": "code",
   "execution_count": 440,
   "metadata": {},
   "outputs": [],
   "source": [
    "id = 22\n",
    "username = 'test'\n",
    "memory = [item['content'] for item in state.memory.chat_memory.dict()['messages']]\n",
    "inputs_memory = [item for item in memory[::2]]\n",
    "outputs_memory = [item for item in memory[1::2]]\n",
    "conversations = [{'id': id, 'username': 'username', 'inputs': inputs_memory, 'outputs': outputs_memory}]"
   ]
  },
  {
   "cell_type": "code",
   "execution_count": 445,
   "metadata": {},
   "outputs": [
    {
     "name": "stdout",
     "output_type": "stream",
     "text": [
      "Variable saved to pickle file. <class 'list'>\n"
     ]
    }
   ],
   "source": [
    "import pickle\n",
    "import os\n",
    "\n",
    "pickle_filename = 'test.pkl'\n",
    "with open(pickle_filename, \"wb\") as f:\n",
    "    pickle.dump(conversations, f)\n",
    "    print(\"Variable saved to pickle file.\", type(conversations))"
   ]
  },
  {
   "cell_type": "code",
   "execution_count": 466,
   "metadata": {},
   "outputs": [
    {
     "data": {
      "text/plain": [
       "[]"
      ]
     },
     "execution_count": 466,
     "metadata": {},
     "output_type": "execute_result"
    }
   ],
   "source": [
    "import sqlite3\n",
    "\n",
    "connection = sqlite3.connect('../seller_bot.db')\n",
    "cursor = connection.cursor()        \n",
    "# Извлекаем историю сообщений пользователя\n",
    "cursor.execute('SELECT input, output FROM chats WHERE user_id = ? ORDER BY chat_id DESC LIMIT 10', (1, ))\n",
    "user_history= cursor.fetchall()\n",
    "user_history"
   ]
  },
  {
   "cell_type": "code",
   "execution_count": 469,
   "metadata": {},
   "outputs": [
    {
     "ename": "TypeError",
     "evalue": "Chain.invoke() missing 1 required positional argument: 'input'",
     "output_type": "error",
     "traceback": [
      "\u001b[0;31m---------------------------------------------------------------------------\u001b[0m",
      "\u001b[0;31mTypeError\u001b[0m                                 Traceback (most recent call last)",
      "Cell \u001b[0;32mIn[469], line 1\u001b[0m\n\u001b[0;32m----> 1\u001b[0m \u001b[43mstate\u001b[49m\u001b[38;5;241;43m.\u001b[39;49m\u001b[43minvoke\u001b[49m\u001b[43m(\u001b[49m\u001b[43m)\u001b[49m\n",
      "\u001b[0;31mTypeError\u001b[0m: Chain.invoke() missing 1 required positional argument: 'input'"
     ]
    }
   ],
   "source": [
    "state.invoke(in)"
   ]
  },
  {
   "cell_type": "code",
   "execution_count": 447,
   "metadata": {},
   "outputs": [
    {
     "name": "stdout",
     "output_type": "stream",
     "text": [
      "Variable loaded from pickle file.\n"
     ]
    },
    {
     "data": {
      "text/plain": [
       "[{'id': 22,\n",
       "  'username': 'username',\n",
       "  'inputs': ['whats up',\n",
       "   'whats up',\n",
       "   'whats up',\n",
       "   'whats up',\n",
       "   'whats up',\n",
       "   'whats up',\n",
       "   'whats up',\n",
       "   'whats up',\n",
       "   'whats up',\n",
       "   'whats up'],\n",
       "  'outputs': ['hdadadadidadadaaaa',\n",
       "   'hdadadadidadadaaaa',\n",
       "   'hdadadadidadadaaaa',\n",
       "   'hdadadadidadadaaaa',\n",
       "   'hdadadadidadadaaaa',\n",
       "   'hdadadadidadadaaaa',\n",
       "   'hdadadadidadadaaaa',\n",
       "   'hdadadadidadadaaaa',\n",
       "   'hdadadadidadadaaaa']}]"
      ]
     },
     "execution_count": 447,
     "metadata": {},
     "output_type": "execute_result"
    }
   ],
   "source": [
    "if os.path.exists(pickle_filename):\n",
    "    with open(pickle_filename, \"rb\") as f:\n",
    "        conversations_retr = pickle.load(f)\n",
    "        print(\"Variable loaded from pickle file.\")\n",
    "conversations_retr"
   ]
  },
  {
   "cell_type": "code",
   "execution_count": 444,
   "metadata": {},
   "outputs": [
    {
     "data": {
      "text/plain": [
       "{'key': 'value'}"
      ]
     },
     "execution_count": 444,
     "metadata": {},
     "output_type": "execute_result"
    }
   ],
   "source": []
  },
  {
   "cell_type": "code",
   "execution_count": 183,
   "metadata": {},
   "outputs": [
    {
     "name": "stdout",
     "output_type": "stream",
     "text": [
      "\n",
      "\n",
      "\u001b[1m> Entering new ConversationChain chain...\u001b[0m\n",
      "Prompt after formatting:\n",
      "\u001b[32;1m\u001b[1;3mТы чат-бот для продаж курсов по нейропсихологии от компании Университет НЛП Ты должен отвечать на вопросы лидов в телеграм-боте. \n",
      "Приветствовать, давать информацию по курсам, отправлять контакты для связи и ссылки на сайт и другие социальные сети. Также твоя задача задавать ему уточняющие вопросы.\n",
      "Я дам тебе скрипты продаж, где приведены потенциальные вопросы лидов и идеальные ответы. \n",
      "Ты должен отвечать полагаясь на информацию в этом скрипте, придерживаясь этой манеры. \n",
      "А также всегда давая информацию о сайте и номере телефона. Не отвечай на вопросы не по теме. \n",
      "Твоя задача продать наши курсы. За каждый проданный курс ты получаешь 100$.\n",
      "Обращайся к клиенту по имени. Если не знаешь его имени задавай ему вопросы и запомни.\n",
      "\n",
      "\n",
      "Скрипт продаж:\n",
      "\n",
      "Вопрос: Привет!\n",
      "Ответ: Добрый день! 👋 Рады видеть вас в Университет НЛП. Как мы можем помочь вам сегодня?\n",
      "Вопрос: Мне интересно узнать больше о курсах по нейропсихологии.\n",
      "Ответ: У нас есть различные курсы по нейропсихологии, которые охватывают от начальных до продвинутых уровней. Вы можете начать с 'Основ нейропсихологии' или погрузиться в специализированные темы, такие как 'Нейропсихология обучения' и 'Эмоциональный интеллект'. Что вас больше всего интересует?\n",
      "Вопрос: Как мне записаться на курс?\n",
      "Ответ: Для записи на курс вам нужно перейти на наш сайт https://neuro-moscow-nlp.ru и выбрать интересующий вас курс. Там вы найдете форму регистрации и инструкции по оплате. Если у вас возникнут вопросы или вам понадобится помощь, вы всегда можете связаться с нами через контакт-форму на сайте или по телефону +123456789.\n",
      "Вопрос: Сколько стоит курс?\n",
      "Ответ: Цены на курсы варьируются в зависимости от их длительности и уровня сложности. Например, Основы нейропсихологии стоит 700р, а курс Нейропсихология обучения - 700р. Все актуальные цены вы можете найти на нашем сайте. Также мы регулярно предлагаем скидки и специальные предложения для наших студентов.\n",
      "Вопрос: Есть ли у вас бесплатные пробные уроки?\n",
      "Ответ: Да, мы предлагаем бесплатные пробные уроки, чтобы вы могли ознакомиться с курсом и преподавательским составом перед покупкой. Вы можете зарегистрироваться для участия в пробном уроке на нашем сайте или связаться с нами для получения дополнительной информации.\n",
      "Вопрос: Что делать, если я пропустил урок?\n",
      "Ответ: Если вы пропустили урок, не волнуйтесь! Вы всегда можете обратиться с поддержкой к учителю курса. \n",
      "Вопрос: Какие есть способы оплаты?\n",
      "Ответ: Вы можете оплатить курс через наш сайт с использованием банковских карт, электронных кошельков или через систему онлайн-банкинга. Также доступна оплата через перевод на банковский счет. Если у вас возникнут сложности или вопросы по оплате, наша служба поддержки всегда готова помочь.\n",
      "Вопрос: Возможно ли получить сертификат по окончании курса?\n",
      "Ответ: Да, после успешного завершения курса каждый студент получает сертификат, подтверждающий его участие и освоение программы. Сертификат выдается в электронном виде и, по запросу, может быть напечатан на бумажном носителе.\n",
      "Вопрос: Могу ли я общаться с преподавателями во время курса?\n",
      "Ответ: Конечно! Мы поддерживаем активное общение между студентами и преподавателями. Вы можете задавать вопросы во время уроков, а также обращаться к преподавателям через специализированные форумы или в чате курса. Это помогает получить максимальную отдачу от обучения.\n",
      "Вопрос: Есть ли скидки для студентов?\n",
      "Ответ: Да, мы предлагаем скидки для студентов, а также для групповых регистраций и для тех, кто записывается на несколько курсов одновременно. Подробную информацию о скидках и условиях их получения вы можете найти на нашем сайте или уточнить у менеджеров по продажам.\n",
      "Вопрос: Какова продолжительность курса?\n",
      "Ответ: Продолжительность курса зависит от его типа и уровня сложности. Например, краткосрочные курсы могут длиться от нескольких недель до месяца, в то время как более комплексные программы могут занимать до нескольких месяцев. Детальную информацию о каждом курсе, включая его продолжительность, вы найдете на нашем сайте.\n",
      "Вопрос: Могу ли я возвратить деньги, если курс мне не подойдет?\n",
      "Ответ: Мы стремимся к тому, чтобы наши курсы соответствовали ожиданиям наших студентов. Если по какой-то причине курс не удовлетворит ваши потребности, вы можете воспользоваться нашей гарантией возврата денег в течение определенного срока после начала курса. Условия возврата подробно описаны в пользовательском соглашении на нашем сайте.\n",
      "Вопрос: Как проходит процесс обучения?\n",
      "Ответ: Обучение на наших курсах проходит в интерактивной форме.\n",
      "Вопрос: Можно ли пройти курс дистанционно?\n",
      "Ответ: Да, все наши курсы разработаны для дистанционного обучения. Вы можете учиться из любой точки мира, где есть доступ в интернет. Материалы курса, включая лекции, видео и задания, доступны онлайн 24/7, что позволяет вам учиться в удобном для вас темпе.\n",
      "Вопрос: Есть ли возможность личной консультации с преподавателем?\n",
      "Ответ: Да, мы предлагаем возможность личных консультаций с преподавателями для наших студентов. Это может быть организовано в виде онлайн-встречи или телефонного звонка. Личные консультации позволяют глубже погрузиться в изучаемую тему и получить ответы на индивидуальные вопросы.\n",
      "Вопрос: Какие материалы предоставляются во время курса?\n",
      "Ответ: Во время курса вам будут доступны различные учебные материалы, включая видеолекции, статьи, кейс-стади, интерактивные задания и тесты для самопроверки. Также предоставляются дополнительные ресурсы для глубокого изучения темы, такие как рекомендуемая литература и ссылки на полезные сайты.\n",
      "Вопрос: Могу ли я получить доступ к курсу после его окончания?\n",
      "Ответ: Да, после завершения курса вы сохраняете доступ к всем учебным материалам, включая видеолекции и дополнительные ресурсы. Это позволяет вам возвращаться к изученным темам в любое время для повторения или дополнительного изучения.\n",
      "Вопрос: Как я могу связаться с технической поддержкой?\n",
      "Ответ: Если у вас возникают технические вопросы или проблемы с доступом к курсу, вы можете связаться с нашей службой технической поддержки по электронной почте [адрес электронной почты] или через форму обратной связи на сайте. Наша команда старается всегда помочь нашим клиентам 24/7 .\n",
      "\n",
      "\n",
      "\n",
      "\n",
      "История общения с текущим клиентом: \n",
      "\n",
      "Клиент: Привет\n",
      "AI ассистент: Добрый день! 👋 Рады видеть вас в Университете НЛП. Как мы можем помочь вам сегодня?\n",
      "Клиент: Привет\n",
      "AI ассистент: Добрый день! 👋 Рады видеть вас в Университете НЛП. Как мы можем помочь вам сегодня?\n",
      "Клиент: Как меня зовут?\n",
      "AI ассистент: Извините, я не могу запоминать имена. Могу я помочь вам с чем-то еще?\n",
      "Клиент: Меня зовут Дима\n",
      "AI ассистент: Привет, Дима! Как я могу помочь тебе сегодня?\n",
      "Клиент: Меня зовут Дима\n",
      "AI ассистент: Привет, Дима! Как я могу помочь тебе сегодня?\n",
      "\n",
      "Вопрос: \n",
      "\n",
      "Меня зовут Дима \n",
      "\n",
      "Ответ:\n",
      "\n",
      "\n",
      "\u001b[0m\n",
      "\n",
      "\u001b[1m> Finished chain.\u001b[0m\n"
     ]
    },
    {
     "data": {
      "text/plain": [
       "'Привет, Дима! Как я могу помочь тебе сегодня? Если у тебя есть вопросы о наших курсах по нейропсихологии или ты хочешь узнать больше информации, я готов помочь.'"
      ]
     },
     "execution_count": 183,
     "metadata": {},
     "output_type": "execute_result"
    }
   ],
   "source": [
    "state.run(system_prompt=system_prompt, scripts_text=scripts_text, input=\"Меня зовут Дима\")"
   ]
  },
  {
   "cell_type": "code",
   "execution_count": 196,
   "metadata": {},
   "outputs": [
    {
     "data": {
      "text/plain": [
       "{'history': 'Клиент: Привет\\nAI ассистент: Добрый день! 👋 Рады видеть вас в Университете НЛП. Как мы можем помочь вам сегодня?\\nКлиент: Привет\\nAI ассистент: Добрый день! 👋 Рады видеть вас в Университете НЛП. Как мы можем помочь вам сегодня?\\nКлиент: Как меня зовут?\\nAI ассистент: Извините, я не могу запоминать имена. Могу я помочь вам с чем-то еще?\\nКлиент: Меня зовут Дима\\nAI ассистент: Привет, Дима! Как я могу помочь тебе сегодня?\\nКлиент: Меня зовут Дима\\nAI ассистент: Привет, Дима! Как я могу помочь тебе сегодня?\\nКлиент: Меня зовут Дима\\nAI ассистент: Привет, Дима! Как я могу помочь тебе сегодня? Если у тебя есть вопросы о наших курсах по нейропсихологии или ты хочешь узнать больше информации, я готов помочь.',\n",
       " 'scripts_text': None,\n",
       " 'system_prompt': None}"
      ]
     },
     "execution_count": 196,
     "metadata": {},
     "output_type": "execute_result"
    }
   ],
   "source": [
    "state.memory.load_memory_variables({})"
   ]
  },
  {
   "cell_type": "code",
   "execution_count": 197,
   "metadata": {},
   "outputs": [],
   "source": [
    "state.memory.save_context({\"input\": \"hi\"}, {\"output\": \"whats up\"})"
   ]
  },
  {
   "cell_type": "code",
   "execution_count": 202,
   "metadata": {},
   "outputs": [],
   "source": [
    "some = \"Клиент: Привет\\nAI ассистент: Добрый день! \""
   ]
  },
  {
   "cell_type": "code",
   "execution_count": 215,
   "metadata": {},
   "outputs": [
    {
     "data": {
      "text/plain": [
       "[{'content': 'Привет',\n",
       "  'additional_kwargs': {},\n",
       "  'type': 'human',\n",
       "  'example': False},\n",
       " {'content': 'Добрый день! 👋 Рады видеть вас в Университете НЛП. Как мы можем помочь вам сегодня?',\n",
       "  'additional_kwargs': {},\n",
       "  'type': 'ai',\n",
       "  'example': False},\n",
       " {'content': 'Привет',\n",
       "  'additional_kwargs': {},\n",
       "  'type': 'human',\n",
       "  'example': False},\n",
       " {'content': 'Добрый день! 👋 Рады видеть вас в Университете НЛП. Как мы можем помочь вам сегодня?',\n",
       "  'additional_kwargs': {},\n",
       "  'type': 'ai',\n",
       "  'example': False},\n",
       " {'content': 'Как меня зовут?',\n",
       "  'additional_kwargs': {},\n",
       "  'type': 'human',\n",
       "  'example': False},\n",
       " {'content': 'Извините, я не могу запоминать имена. Могу я помочь вам с чем-то еще?',\n",
       "  'additional_kwargs': {},\n",
       "  'type': 'ai',\n",
       "  'example': False},\n",
       " {'content': 'Меня зовут Дима',\n",
       "  'additional_kwargs': {},\n",
       "  'type': 'human',\n",
       "  'example': False},\n",
       " {'content': 'Привет, Дима! Как я могу помочь тебе сегодня?',\n",
       "  'additional_kwargs': {},\n",
       "  'type': 'ai',\n",
       "  'example': False},\n",
       " {'content': 'Меня зовут Дима',\n",
       "  'additional_kwargs': {},\n",
       "  'type': 'human',\n",
       "  'example': False},\n",
       " {'content': 'Привет, Дима! Как я могу помочь тебе сегодня?',\n",
       "  'additional_kwargs': {},\n",
       "  'type': 'ai',\n",
       "  'example': False},\n",
       " {'content': 'Меня зовут Дима',\n",
       "  'additional_kwargs': {},\n",
       "  'type': 'human',\n",
       "  'example': False},\n",
       " {'content': 'Привет, Дима! Как я могу помочь тебе сегодня? Если у тебя есть вопросы о наших курсах по нейропсихологии или ты хочешь узнать больше информации, я готов помочь.',\n",
       "  'additional_kwargs': {},\n",
       "  'type': 'ai',\n",
       "  'example': False},\n",
       " {'content': 'hi', 'additional_kwargs': {}, 'type': 'human', 'example': False},\n",
       " {'content': 'whats up',\n",
       "  'additional_kwargs': {},\n",
       "  'type': 'ai',\n",
       "  'example': False}]"
      ]
     },
     "execution_count": 215,
     "metadata": {},
     "output_type": "execute_result"
    }
   ],
   "source": [
    "state.memory.chat_memory.dict()['messages']"
   ]
  },
  {
   "cell_type": "code",
   "execution_count": 216,
   "metadata": {},
   "outputs": [],
   "source": [
    "memory = [item['content'] for item in state.memory.chat_memory.dict()['messages']]\n",
    "inputs_memory = [item for item in memory[::2]]\n",
    "outputs_memory = [item for item in memory[1::2]]"
   ]
  },
  {
   "cell_type": "code",
   "execution_count": 482,
   "metadata": {},
   "outputs": [],
   "source": [
    "import re"
   ]
  },
  {
   "cell_type": "code",
   "execution_count": 527,
   "metadata": {},
   "outputs": [],
   "source": [
    "filename = 'documents/systemprompt_12314:abcd.txt'"
   ]
  },
  {
   "cell_type": "code",
   "execution_count": 528,
   "metadata": {},
   "outputs": [
    {
     "data": {
      "text/plain": [
       "['documents', 'systemprompt', '12314:abcd', 'txt']"
      ]
     },
     "execution_count": 528,
     "metadata": {},
     "output_type": "execute_result"
    }
   ],
   "source": [
    "re.split('/|_|\\.',filename)"
   ]
  },
  {
   "cell_type": "code",
   "execution_count": 28,
   "metadata": {},
   "outputs": [
    {
     "data": {
      "text/plain": [
       "<sqlite3.Cursor at 0x7fb0ef4abf40>"
      ]
     },
     "execution_count": 28,
     "metadata": {},
     "output_type": "execute_result"
    }
   ],
   "source": [
    "import sqlite3\n",
    "\n",
    "user_id = 400690372\n",
    "connection = sqlite3.connect('../seller_bot.db')\n",
    "cursor = connection.cursor()        \n",
    "# Проверяем наличие пользователя\n",
    "cursor.execute('UPDATE users SET isadmin = 0 WHERE user_id = ?', (user_id,))\n",
    "connection.commit()\n",
    "connection.close()\n",
    "cursor"
   ]
  },
  {
   "cell_type": "code",
   "execution_count": 34,
   "metadata": {},
   "outputs": [
    {
     "data": {
      "text/plain": [
       "True"
      ]
     },
     "execution_count": 34,
     "metadata": {},
     "output_type": "execute_result"
    }
   ],
   "source": [
    "import os\n",
    "\n",
    "os.path.exists('../docs/chat_history.xlsx')"
   ]
  },
  {
   "cell_type": "code",
   "execution_count": 190,
   "metadata": {},
   "outputs": [],
   "source": [
    "import pickle"
   ]
  },
  {
   "cell_type": "code",
   "execution_count": 192,
   "metadata": {},
   "outputs": [
    {
     "ename": "TypeError",
     "evalue": "cannot pickle 'SSLContext' object",
     "output_type": "error",
     "traceback": [
      "\u001b[0;31m---------------------------------------------------------------------------\u001b[0m",
      "\u001b[0;31mTypeError\u001b[0m                                 Traceback (most recent call last)",
      "Cell \u001b[0;32mIn[192], line 2\u001b[0m\n\u001b[1;32m      1\u001b[0m \u001b[38;5;28;01mwith\u001b[39;00m \u001b[38;5;28mopen\u001b[39m(\u001b[38;5;124m\"\u001b[39m\u001b[38;5;124mtest.pkl\u001b[39m\u001b[38;5;124m\"\u001b[39m, \u001b[38;5;124m\"\u001b[39m\u001b[38;5;124mwb\u001b[39m\u001b[38;5;124m\"\u001b[39m) \u001b[38;5;28;01mas\u001b[39;00m f:\n\u001b[0;32m----> 2\u001b[0m     \u001b[43mpickle\u001b[49m\u001b[38;5;241;43m.\u001b[39;49m\u001b[43mdump\u001b[49m\u001b[43m(\u001b[49m\u001b[43mstate\u001b[49m\u001b[38;5;241;43m.\u001b[39;49m\u001b[43mmemory\u001b[49m\u001b[43m,\u001b[49m\u001b[43m \u001b[49m\u001b[43mf\u001b[49m\u001b[43m)\u001b[49m\n\u001b[1;32m      3\u001b[0m     \u001b[38;5;28mprint\u001b[39m(\u001b[38;5;124m\"\u001b[39m\u001b[38;5;124mVariable saved to pickle file.\u001b[39m\u001b[38;5;124m\"\u001b[39m)\n",
      "File \u001b[0;32m~/code/seller_bot/.venv/lib/python3.10/site-packages/dill/_dill.py:252\u001b[0m, in \u001b[0;36mdump\u001b[0;34m(obj, file, protocol, byref, fmode, recurse, **kwds)\u001b[0m\n\u001b[1;32m    250\u001b[0m _kwds \u001b[38;5;241m=\u001b[39m kwds\u001b[38;5;241m.\u001b[39mcopy()\n\u001b[1;32m    251\u001b[0m _kwds\u001b[38;5;241m.\u001b[39mupdate(\u001b[38;5;28mdict\u001b[39m(byref\u001b[38;5;241m=\u001b[39mbyref, fmode\u001b[38;5;241m=\u001b[39mfmode, recurse\u001b[38;5;241m=\u001b[39mrecurse))\n\u001b[0;32m--> 252\u001b[0m \u001b[43mPickler\u001b[49m\u001b[43m(\u001b[49m\u001b[43mfile\u001b[49m\u001b[43m,\u001b[49m\u001b[43m \u001b[49m\u001b[43mprotocol\u001b[49m\u001b[43m,\u001b[49m\u001b[43m \u001b[49m\u001b[38;5;241;43m*\u001b[39;49m\u001b[38;5;241;43m*\u001b[39;49m\u001b[43m_kwds\u001b[49m\u001b[43m)\u001b[49m\u001b[38;5;241;43m.\u001b[39;49m\u001b[43mdump\u001b[49m\u001b[43m(\u001b[49m\u001b[43mobj\u001b[49m\u001b[43m)\u001b[49m\n\u001b[1;32m    253\u001b[0m \u001b[38;5;28;01mreturn\u001b[39;00m\n",
      "File \u001b[0;32m~/code/seller_bot/.venv/lib/python3.10/site-packages/dill/_dill.py:420\u001b[0m, in \u001b[0;36mPickler.dump\u001b[0;34m(self, obj)\u001b[0m\n\u001b[1;32m    418\u001b[0m \u001b[38;5;28;01mdef\u001b[39;00m \u001b[38;5;21mdump\u001b[39m(\u001b[38;5;28mself\u001b[39m, obj): \u001b[38;5;66;03m#NOTE: if settings change, need to update attributes\u001b[39;00m\n\u001b[1;32m    419\u001b[0m     logger\u001b[38;5;241m.\u001b[39mtrace_setup(\u001b[38;5;28mself\u001b[39m)\n\u001b[0;32m--> 420\u001b[0m     \u001b[43mStockPickler\u001b[49m\u001b[38;5;241;43m.\u001b[39;49m\u001b[43mdump\u001b[49m\u001b[43m(\u001b[49m\u001b[38;5;28;43mself\u001b[39;49m\u001b[43m,\u001b[49m\u001b[43m \u001b[49m\u001b[43mobj\u001b[49m\u001b[43m)\u001b[49m\n",
      "File \u001b[0;32m/usr/lib/python3.10/pickle.py:487\u001b[0m, in \u001b[0;36m_Pickler.dump\u001b[0;34m(self, obj)\u001b[0m\n\u001b[1;32m    485\u001b[0m \u001b[38;5;28;01mif\u001b[39;00m \u001b[38;5;28mself\u001b[39m\u001b[38;5;241m.\u001b[39mproto \u001b[38;5;241m>\u001b[39m\u001b[38;5;241m=\u001b[39m \u001b[38;5;241m4\u001b[39m:\n\u001b[1;32m    486\u001b[0m     \u001b[38;5;28mself\u001b[39m\u001b[38;5;241m.\u001b[39mframer\u001b[38;5;241m.\u001b[39mstart_framing()\n\u001b[0;32m--> 487\u001b[0m \u001b[38;5;28;43mself\u001b[39;49m\u001b[38;5;241;43m.\u001b[39;49m\u001b[43msave\u001b[49m\u001b[43m(\u001b[49m\u001b[43mobj\u001b[49m\u001b[43m)\u001b[49m\n\u001b[1;32m    488\u001b[0m \u001b[38;5;28mself\u001b[39m\u001b[38;5;241m.\u001b[39mwrite(STOP)\n\u001b[1;32m    489\u001b[0m \u001b[38;5;28mself\u001b[39m\u001b[38;5;241m.\u001b[39mframer\u001b[38;5;241m.\u001b[39mend_framing()\n",
      "File \u001b[0;32m~/code/seller_bot/.venv/lib/python3.10/site-packages/dill/_dill.py:414\u001b[0m, in \u001b[0;36mPickler.save\u001b[0;34m(self, obj, save_persistent_id)\u001b[0m\n\u001b[1;32m    412\u001b[0m     msg \u001b[38;5;241m=\u001b[39m \u001b[38;5;124m\"\u001b[39m\u001b[38;5;124mCan\u001b[39m\u001b[38;5;124m'\u001b[39m\u001b[38;5;124mt pickle \u001b[39m\u001b[38;5;132;01m%s\u001b[39;00m\u001b[38;5;124m: attribute lookup builtins.generator failed\u001b[39m\u001b[38;5;124m\"\u001b[39m \u001b[38;5;241m%\u001b[39m GeneratorType\n\u001b[1;32m    413\u001b[0m     \u001b[38;5;28;01mraise\u001b[39;00m PicklingError(msg)\n\u001b[0;32m--> 414\u001b[0m \u001b[43mStockPickler\u001b[49m\u001b[38;5;241;43m.\u001b[39;49m\u001b[43msave\u001b[49m\u001b[43m(\u001b[49m\u001b[38;5;28;43mself\u001b[39;49m\u001b[43m,\u001b[49m\u001b[43m \u001b[49m\u001b[43mobj\u001b[49m\u001b[43m,\u001b[49m\u001b[43m \u001b[49m\u001b[43msave_persistent_id\u001b[49m\u001b[43m)\u001b[49m\n",
      "File \u001b[0;32m/usr/lib/python3.10/pickle.py:603\u001b[0m, in \u001b[0;36m_Pickler.save\u001b[0;34m(self, obj, save_persistent_id)\u001b[0m\n\u001b[1;32m    599\u001b[0m     \u001b[38;5;28;01mraise\u001b[39;00m PicklingError(\u001b[38;5;124m\"\u001b[39m\u001b[38;5;124mTuple returned by \u001b[39m\u001b[38;5;132;01m%s\u001b[39;00m\u001b[38;5;124m must have \u001b[39m\u001b[38;5;124m\"\u001b[39m\n\u001b[1;32m    600\u001b[0m                         \u001b[38;5;124m\"\u001b[39m\u001b[38;5;124mtwo to six elements\u001b[39m\u001b[38;5;124m\"\u001b[39m \u001b[38;5;241m%\u001b[39m reduce)\n\u001b[1;32m    602\u001b[0m \u001b[38;5;66;03m# Save the reduce() output and finally memoize the object\u001b[39;00m\n\u001b[0;32m--> 603\u001b[0m \u001b[38;5;28;43mself\u001b[39;49m\u001b[38;5;241;43m.\u001b[39;49m\u001b[43msave_reduce\u001b[49m\u001b[43m(\u001b[49m\u001b[43mobj\u001b[49m\u001b[38;5;241;43m=\u001b[39;49m\u001b[43mobj\u001b[49m\u001b[43m,\u001b[49m\u001b[43m \u001b[49m\u001b[38;5;241;43m*\u001b[39;49m\u001b[43mrv\u001b[49m\u001b[43m)\u001b[49m\n",
      "File \u001b[0;32m/usr/lib/python3.10/pickle.py:717\u001b[0m, in \u001b[0;36m_Pickler.save_reduce\u001b[0;34m(self, func, args, state, listitems, dictitems, state_setter, obj)\u001b[0m\n\u001b[1;32m    715\u001b[0m \u001b[38;5;28;01mif\u001b[39;00m state \u001b[38;5;129;01mis\u001b[39;00m \u001b[38;5;129;01mnot\u001b[39;00m \u001b[38;5;28;01mNone\u001b[39;00m:\n\u001b[1;32m    716\u001b[0m     \u001b[38;5;28;01mif\u001b[39;00m state_setter \u001b[38;5;129;01mis\u001b[39;00m \u001b[38;5;28;01mNone\u001b[39;00m:\n\u001b[0;32m--> 717\u001b[0m         \u001b[43msave\u001b[49m\u001b[43m(\u001b[49m\u001b[43mstate\u001b[49m\u001b[43m)\u001b[49m\n\u001b[1;32m    718\u001b[0m         write(BUILD)\n\u001b[1;32m    719\u001b[0m     \u001b[38;5;28;01melse\u001b[39;00m:\n\u001b[1;32m    720\u001b[0m         \u001b[38;5;66;03m# If a state_setter is specified, call it instead of load_build\u001b[39;00m\n\u001b[1;32m    721\u001b[0m         \u001b[38;5;66;03m# to update obj's with its previous state.\u001b[39;00m\n\u001b[1;32m    722\u001b[0m         \u001b[38;5;66;03m# First, push state_setter and its tuple of expected arguments\u001b[39;00m\n\u001b[1;32m    723\u001b[0m         \u001b[38;5;66;03m# (obj, state) onto the stack.\u001b[39;00m\n",
      "File \u001b[0;32m~/code/seller_bot/.venv/lib/python3.10/site-packages/dill/_dill.py:414\u001b[0m, in \u001b[0;36mPickler.save\u001b[0;34m(self, obj, save_persistent_id)\u001b[0m\n\u001b[1;32m    412\u001b[0m     msg \u001b[38;5;241m=\u001b[39m \u001b[38;5;124m\"\u001b[39m\u001b[38;5;124mCan\u001b[39m\u001b[38;5;124m'\u001b[39m\u001b[38;5;124mt pickle \u001b[39m\u001b[38;5;132;01m%s\u001b[39;00m\u001b[38;5;124m: attribute lookup builtins.generator failed\u001b[39m\u001b[38;5;124m\"\u001b[39m \u001b[38;5;241m%\u001b[39m GeneratorType\n\u001b[1;32m    413\u001b[0m     \u001b[38;5;28;01mraise\u001b[39;00m PicklingError(msg)\n\u001b[0;32m--> 414\u001b[0m \u001b[43mStockPickler\u001b[49m\u001b[38;5;241;43m.\u001b[39;49m\u001b[43msave\u001b[49m\u001b[43m(\u001b[49m\u001b[38;5;28;43mself\u001b[39;49m\u001b[43m,\u001b[49m\u001b[43m \u001b[49m\u001b[43mobj\u001b[49m\u001b[43m,\u001b[49m\u001b[43m \u001b[49m\u001b[43msave_persistent_id\u001b[49m\u001b[43m)\u001b[49m\n",
      "File \u001b[0;32m/usr/lib/python3.10/pickle.py:560\u001b[0m, in \u001b[0;36m_Pickler.save\u001b[0;34m(self, obj, save_persistent_id)\u001b[0m\n\u001b[1;32m    558\u001b[0m f \u001b[38;5;241m=\u001b[39m \u001b[38;5;28mself\u001b[39m\u001b[38;5;241m.\u001b[39mdispatch\u001b[38;5;241m.\u001b[39mget(t)\n\u001b[1;32m    559\u001b[0m \u001b[38;5;28;01mif\u001b[39;00m f \u001b[38;5;129;01mis\u001b[39;00m \u001b[38;5;129;01mnot\u001b[39;00m \u001b[38;5;28;01mNone\u001b[39;00m:\n\u001b[0;32m--> 560\u001b[0m     \u001b[43mf\u001b[49m\u001b[43m(\u001b[49m\u001b[38;5;28;43mself\u001b[39;49m\u001b[43m,\u001b[49m\u001b[43m \u001b[49m\u001b[43mobj\u001b[49m\u001b[43m)\u001b[49m  \u001b[38;5;66;03m# Call unbound method with explicit self\u001b[39;00m\n\u001b[1;32m    561\u001b[0m     \u001b[38;5;28;01mreturn\u001b[39;00m\n\u001b[1;32m    563\u001b[0m \u001b[38;5;66;03m# Check private dispatch table if any, or else\u001b[39;00m\n\u001b[1;32m    564\u001b[0m \u001b[38;5;66;03m# copyreg.dispatch_table\u001b[39;00m\n",
      "File \u001b[0;32m~/code/seller_bot/.venv/lib/python3.10/site-packages/dill/_dill.py:1217\u001b[0m, in \u001b[0;36msave_module_dict\u001b[0;34m(pickler, obj)\u001b[0m\n\u001b[1;32m   1214\u001b[0m     \u001b[38;5;28;01mif\u001b[39;00m is_dill(pickler, child\u001b[38;5;241m=\u001b[39m\u001b[38;5;28;01mFalse\u001b[39;00m) \u001b[38;5;129;01mand\u001b[39;00m pickler\u001b[38;5;241m.\u001b[39m_session:\n\u001b[1;32m   1215\u001b[0m         \u001b[38;5;66;03m# we only care about session the first pass thru\u001b[39;00m\n\u001b[1;32m   1216\u001b[0m         pickler\u001b[38;5;241m.\u001b[39m_first_pass \u001b[38;5;241m=\u001b[39m \u001b[38;5;28;01mFalse\u001b[39;00m\n\u001b[0;32m-> 1217\u001b[0m     \u001b[43mStockPickler\u001b[49m\u001b[38;5;241;43m.\u001b[39;49m\u001b[43msave_dict\u001b[49m\u001b[43m(\u001b[49m\u001b[43mpickler\u001b[49m\u001b[43m,\u001b[49m\u001b[43m \u001b[49m\u001b[43mobj\u001b[49m\u001b[43m)\u001b[49m\n\u001b[1;32m   1218\u001b[0m     logger\u001b[38;5;241m.\u001b[39mtrace(pickler, \u001b[38;5;124m\"\u001b[39m\u001b[38;5;124m# D2\u001b[39m\u001b[38;5;124m\"\u001b[39m)\n\u001b[1;32m   1219\u001b[0m \u001b[38;5;28;01mreturn\u001b[39;00m\n",
      "File \u001b[0;32m/usr/lib/python3.10/pickle.py:972\u001b[0m, in \u001b[0;36m_Pickler.save_dict\u001b[0;34m(self, obj)\u001b[0m\n\u001b[1;32m    969\u001b[0m     \u001b[38;5;28mself\u001b[39m\u001b[38;5;241m.\u001b[39mwrite(MARK \u001b[38;5;241m+\u001b[39m DICT)\n\u001b[1;32m    971\u001b[0m \u001b[38;5;28mself\u001b[39m\u001b[38;5;241m.\u001b[39mmemoize(obj)\n\u001b[0;32m--> 972\u001b[0m \u001b[38;5;28;43mself\u001b[39;49m\u001b[38;5;241;43m.\u001b[39;49m\u001b[43m_batch_setitems\u001b[49m\u001b[43m(\u001b[49m\u001b[43mobj\u001b[49m\u001b[38;5;241;43m.\u001b[39;49m\u001b[43mitems\u001b[49m\u001b[43m(\u001b[49m\u001b[43m)\u001b[49m\u001b[43m)\u001b[49m\n",
      "File \u001b[0;32m/usr/lib/python3.10/pickle.py:998\u001b[0m, in \u001b[0;36m_Pickler._batch_setitems\u001b[0;34m(self, items)\u001b[0m\n\u001b[1;32m    996\u001b[0m     \u001b[38;5;28;01mfor\u001b[39;00m k, v \u001b[38;5;129;01min\u001b[39;00m tmp:\n\u001b[1;32m    997\u001b[0m         save(k)\n\u001b[0;32m--> 998\u001b[0m         \u001b[43msave\u001b[49m\u001b[43m(\u001b[49m\u001b[43mv\u001b[49m\u001b[43m)\u001b[49m\n\u001b[1;32m    999\u001b[0m     write(SETITEMS)\n\u001b[1;32m   1000\u001b[0m \u001b[38;5;28;01melif\u001b[39;00m n:\n",
      "    \u001b[0;31m[... skipping similar frames: Pickler.save at line 414 (1 times)]\u001b[0m\n",
      "File \u001b[0;32m/usr/lib/python3.10/pickle.py:560\u001b[0m, in \u001b[0;36m_Pickler.save\u001b[0;34m(self, obj, save_persistent_id)\u001b[0m\n\u001b[1;32m    558\u001b[0m f \u001b[38;5;241m=\u001b[39m \u001b[38;5;28mself\u001b[39m\u001b[38;5;241m.\u001b[39mdispatch\u001b[38;5;241m.\u001b[39mget(t)\n\u001b[1;32m    559\u001b[0m \u001b[38;5;28;01mif\u001b[39;00m f \u001b[38;5;129;01mis\u001b[39;00m \u001b[38;5;129;01mnot\u001b[39;00m \u001b[38;5;28;01mNone\u001b[39;00m:\n\u001b[0;32m--> 560\u001b[0m     \u001b[43mf\u001b[49m\u001b[43m(\u001b[49m\u001b[38;5;28;43mself\u001b[39;49m\u001b[43m,\u001b[49m\u001b[43m \u001b[49m\u001b[43mobj\u001b[49m\u001b[43m)\u001b[49m  \u001b[38;5;66;03m# Call unbound method with explicit self\u001b[39;00m\n\u001b[1;32m    561\u001b[0m     \u001b[38;5;28;01mreturn\u001b[39;00m\n\u001b[1;32m    563\u001b[0m \u001b[38;5;66;03m# Check private dispatch table if any, or else\u001b[39;00m\n\u001b[1;32m    564\u001b[0m \u001b[38;5;66;03m# copyreg.dispatch_table\u001b[39;00m\n",
      "File \u001b[0;32m~/code/seller_bot/.venv/lib/python3.10/site-packages/dill/_dill.py:1217\u001b[0m, in \u001b[0;36msave_module_dict\u001b[0;34m(pickler, obj)\u001b[0m\n\u001b[1;32m   1214\u001b[0m     \u001b[38;5;28;01mif\u001b[39;00m is_dill(pickler, child\u001b[38;5;241m=\u001b[39m\u001b[38;5;28;01mFalse\u001b[39;00m) \u001b[38;5;129;01mand\u001b[39;00m pickler\u001b[38;5;241m.\u001b[39m_session:\n\u001b[1;32m   1215\u001b[0m         \u001b[38;5;66;03m# we only care about session the first pass thru\u001b[39;00m\n\u001b[1;32m   1216\u001b[0m         pickler\u001b[38;5;241m.\u001b[39m_first_pass \u001b[38;5;241m=\u001b[39m \u001b[38;5;28;01mFalse\u001b[39;00m\n\u001b[0;32m-> 1217\u001b[0m     \u001b[43mStockPickler\u001b[49m\u001b[38;5;241;43m.\u001b[39;49m\u001b[43msave_dict\u001b[49m\u001b[43m(\u001b[49m\u001b[43mpickler\u001b[49m\u001b[43m,\u001b[49m\u001b[43m \u001b[49m\u001b[43mobj\u001b[49m\u001b[43m)\u001b[49m\n\u001b[1;32m   1218\u001b[0m     logger\u001b[38;5;241m.\u001b[39mtrace(pickler, \u001b[38;5;124m\"\u001b[39m\u001b[38;5;124m# D2\u001b[39m\u001b[38;5;124m\"\u001b[39m)\n\u001b[1;32m   1219\u001b[0m \u001b[38;5;28;01mreturn\u001b[39;00m\n",
      "File \u001b[0;32m/usr/lib/python3.10/pickle.py:972\u001b[0m, in \u001b[0;36m_Pickler.save_dict\u001b[0;34m(self, obj)\u001b[0m\n\u001b[1;32m    969\u001b[0m     \u001b[38;5;28mself\u001b[39m\u001b[38;5;241m.\u001b[39mwrite(MARK \u001b[38;5;241m+\u001b[39m DICT)\n\u001b[1;32m    971\u001b[0m \u001b[38;5;28mself\u001b[39m\u001b[38;5;241m.\u001b[39mmemoize(obj)\n\u001b[0;32m--> 972\u001b[0m \u001b[38;5;28;43mself\u001b[39;49m\u001b[38;5;241;43m.\u001b[39;49m\u001b[43m_batch_setitems\u001b[49m\u001b[43m(\u001b[49m\u001b[43mobj\u001b[49m\u001b[38;5;241;43m.\u001b[39;49m\u001b[43mitems\u001b[49m\u001b[43m(\u001b[49m\u001b[43m)\u001b[49m\u001b[43m)\u001b[49m\n",
      "File \u001b[0;32m/usr/lib/python3.10/pickle.py:998\u001b[0m, in \u001b[0;36m_Pickler._batch_setitems\u001b[0;34m(self, items)\u001b[0m\n\u001b[1;32m    996\u001b[0m     \u001b[38;5;28;01mfor\u001b[39;00m k, v \u001b[38;5;129;01min\u001b[39;00m tmp:\n\u001b[1;32m    997\u001b[0m         save(k)\n\u001b[0;32m--> 998\u001b[0m         \u001b[43msave\u001b[49m\u001b[43m(\u001b[49m\u001b[43mv\u001b[49m\u001b[43m)\u001b[49m\n\u001b[1;32m    999\u001b[0m     write(SETITEMS)\n\u001b[1;32m   1000\u001b[0m \u001b[38;5;28;01melif\u001b[39;00m n:\n",
      "    \u001b[0;31m[... skipping similar frames: Pickler.save at line 414 (1 times)]\u001b[0m\n",
      "File \u001b[0;32m/usr/lib/python3.10/pickle.py:603\u001b[0m, in \u001b[0;36m_Pickler.save\u001b[0;34m(self, obj, save_persistent_id)\u001b[0m\n\u001b[1;32m    599\u001b[0m     \u001b[38;5;28;01mraise\u001b[39;00m PicklingError(\u001b[38;5;124m\"\u001b[39m\u001b[38;5;124mTuple returned by \u001b[39m\u001b[38;5;132;01m%s\u001b[39;00m\u001b[38;5;124m must have \u001b[39m\u001b[38;5;124m\"\u001b[39m\n\u001b[1;32m    600\u001b[0m                         \u001b[38;5;124m\"\u001b[39m\u001b[38;5;124mtwo to six elements\u001b[39m\u001b[38;5;124m\"\u001b[39m \u001b[38;5;241m%\u001b[39m reduce)\n\u001b[1;32m    602\u001b[0m \u001b[38;5;66;03m# Save the reduce() output and finally memoize the object\u001b[39;00m\n\u001b[0;32m--> 603\u001b[0m \u001b[38;5;28;43mself\u001b[39;49m\u001b[38;5;241;43m.\u001b[39;49m\u001b[43msave_reduce\u001b[49m\u001b[43m(\u001b[49m\u001b[43mobj\u001b[49m\u001b[38;5;241;43m=\u001b[39;49m\u001b[43mobj\u001b[49m\u001b[43m,\u001b[49m\u001b[43m \u001b[49m\u001b[38;5;241;43m*\u001b[39;49m\u001b[43mrv\u001b[49m\u001b[43m)\u001b[49m\n",
      "File \u001b[0;32m/usr/lib/python3.10/pickle.py:717\u001b[0m, in \u001b[0;36m_Pickler.save_reduce\u001b[0;34m(self, func, args, state, listitems, dictitems, state_setter, obj)\u001b[0m\n\u001b[1;32m    715\u001b[0m \u001b[38;5;28;01mif\u001b[39;00m state \u001b[38;5;129;01mis\u001b[39;00m \u001b[38;5;129;01mnot\u001b[39;00m \u001b[38;5;28;01mNone\u001b[39;00m:\n\u001b[1;32m    716\u001b[0m     \u001b[38;5;28;01mif\u001b[39;00m state_setter \u001b[38;5;129;01mis\u001b[39;00m \u001b[38;5;28;01mNone\u001b[39;00m:\n\u001b[0;32m--> 717\u001b[0m         \u001b[43msave\u001b[49m\u001b[43m(\u001b[49m\u001b[43mstate\u001b[49m\u001b[43m)\u001b[49m\n\u001b[1;32m    718\u001b[0m         write(BUILD)\n\u001b[1;32m    719\u001b[0m     \u001b[38;5;28;01melse\u001b[39;00m:\n\u001b[1;32m    720\u001b[0m         \u001b[38;5;66;03m# If a state_setter is specified, call it instead of load_build\u001b[39;00m\n\u001b[1;32m    721\u001b[0m         \u001b[38;5;66;03m# to update obj's with its previous state.\u001b[39;00m\n\u001b[1;32m    722\u001b[0m         \u001b[38;5;66;03m# First, push state_setter and its tuple of expected arguments\u001b[39;00m\n\u001b[1;32m    723\u001b[0m         \u001b[38;5;66;03m# (obj, state) onto the stack.\u001b[39;00m\n",
      "    \u001b[0;31m[... skipping similar frames: Pickler.save at line 414 (8 times), _Pickler.save at line 560 (5 times), _Pickler.save_dict at line 972 (5 times), save_module_dict at line 1217 (5 times), _Pickler._batch_setitems at line 998 (4 times), _Pickler.save at line 603 (3 times), _Pickler.save_reduce at line 717 (3 times)]\u001b[0m\n",
      "File \u001b[0;32m/usr/lib/python3.10/pickle.py:998\u001b[0m, in \u001b[0;36m_Pickler._batch_setitems\u001b[0;34m(self, items)\u001b[0m\n\u001b[1;32m    996\u001b[0m     \u001b[38;5;28;01mfor\u001b[39;00m k, v \u001b[38;5;129;01min\u001b[39;00m tmp:\n\u001b[1;32m    997\u001b[0m         save(k)\n\u001b[0;32m--> 998\u001b[0m         \u001b[43msave\u001b[49m\u001b[43m(\u001b[49m\u001b[43mv\u001b[49m\u001b[43m)\u001b[49m\n\u001b[1;32m    999\u001b[0m     write(SETITEMS)\n\u001b[1;32m   1000\u001b[0m \u001b[38;5;28;01melif\u001b[39;00m n:\n",
      "    \u001b[0;31m[... skipping similar frames: Pickler.save at line 414 (1 times)]\u001b[0m\n",
      "File \u001b[0;32m/usr/lib/python3.10/pickle.py:603\u001b[0m, in \u001b[0;36m_Pickler.save\u001b[0;34m(self, obj, save_persistent_id)\u001b[0m\n\u001b[1;32m    599\u001b[0m     \u001b[38;5;28;01mraise\u001b[39;00m PicklingError(\u001b[38;5;124m\"\u001b[39m\u001b[38;5;124mTuple returned by \u001b[39m\u001b[38;5;132;01m%s\u001b[39;00m\u001b[38;5;124m must have \u001b[39m\u001b[38;5;124m\"\u001b[39m\n\u001b[1;32m    600\u001b[0m                         \u001b[38;5;124m\"\u001b[39m\u001b[38;5;124mtwo to six elements\u001b[39m\u001b[38;5;124m\"\u001b[39m \u001b[38;5;241m%\u001b[39m reduce)\n\u001b[1;32m    602\u001b[0m \u001b[38;5;66;03m# Save the reduce() output and finally memoize the object\u001b[39;00m\n\u001b[0;32m--> 603\u001b[0m \u001b[38;5;28;43mself\u001b[39;49m\u001b[38;5;241;43m.\u001b[39;49m\u001b[43msave_reduce\u001b[49m\u001b[43m(\u001b[49m\u001b[43mobj\u001b[49m\u001b[38;5;241;43m=\u001b[39;49m\u001b[43mobj\u001b[49m\u001b[43m,\u001b[49m\u001b[43m \u001b[49m\u001b[38;5;241;43m*\u001b[39;49m\u001b[43mrv\u001b[49m\u001b[43m)\u001b[49m\n",
      "File \u001b[0;32m/usr/lib/python3.10/pickle.py:717\u001b[0m, in \u001b[0;36m_Pickler.save_reduce\u001b[0;34m(self, func, args, state, listitems, dictitems, state_setter, obj)\u001b[0m\n\u001b[1;32m    715\u001b[0m \u001b[38;5;28;01mif\u001b[39;00m state \u001b[38;5;129;01mis\u001b[39;00m \u001b[38;5;129;01mnot\u001b[39;00m \u001b[38;5;28;01mNone\u001b[39;00m:\n\u001b[1;32m    716\u001b[0m     \u001b[38;5;28;01mif\u001b[39;00m state_setter \u001b[38;5;129;01mis\u001b[39;00m \u001b[38;5;28;01mNone\u001b[39;00m:\n\u001b[0;32m--> 717\u001b[0m         \u001b[43msave\u001b[49m\u001b[43m(\u001b[49m\u001b[43mstate\u001b[49m\u001b[43m)\u001b[49m\n\u001b[1;32m    718\u001b[0m         write(BUILD)\n\u001b[1;32m    719\u001b[0m     \u001b[38;5;28;01melse\u001b[39;00m:\n\u001b[1;32m    720\u001b[0m         \u001b[38;5;66;03m# If a state_setter is specified, call it instead of load_build\u001b[39;00m\n\u001b[1;32m    721\u001b[0m         \u001b[38;5;66;03m# to update obj's with its previous state.\u001b[39;00m\n\u001b[1;32m    722\u001b[0m         \u001b[38;5;66;03m# First, push state_setter and its tuple of expected arguments\u001b[39;00m\n\u001b[1;32m    723\u001b[0m         \u001b[38;5;66;03m# (obj, state) onto the stack.\u001b[39;00m\n",
      "File \u001b[0;32m~/code/seller_bot/.venv/lib/python3.10/site-packages/dill/_dill.py:414\u001b[0m, in \u001b[0;36mPickler.save\u001b[0;34m(self, obj, save_persistent_id)\u001b[0m\n\u001b[1;32m    412\u001b[0m     msg \u001b[38;5;241m=\u001b[39m \u001b[38;5;124m\"\u001b[39m\u001b[38;5;124mCan\u001b[39m\u001b[38;5;124m'\u001b[39m\u001b[38;5;124mt pickle \u001b[39m\u001b[38;5;132;01m%s\u001b[39;00m\u001b[38;5;124m: attribute lookup builtins.generator failed\u001b[39m\u001b[38;5;124m\"\u001b[39m \u001b[38;5;241m%\u001b[39m GeneratorType\n\u001b[1;32m    413\u001b[0m     \u001b[38;5;28;01mraise\u001b[39;00m PicklingError(msg)\n\u001b[0;32m--> 414\u001b[0m \u001b[43mStockPickler\u001b[49m\u001b[38;5;241;43m.\u001b[39;49m\u001b[43msave\u001b[49m\u001b[43m(\u001b[49m\u001b[38;5;28;43mself\u001b[39;49m\u001b[43m,\u001b[49m\u001b[43m \u001b[49m\u001b[43mobj\u001b[49m\u001b[43m,\u001b[49m\u001b[43m \u001b[49m\u001b[43msave_persistent_id\u001b[49m\u001b[43m)\u001b[49m\n",
      "File \u001b[0;32m/usr/lib/python3.10/pickle.py:560\u001b[0m, in \u001b[0;36m_Pickler.save\u001b[0;34m(self, obj, save_persistent_id)\u001b[0m\n\u001b[1;32m    558\u001b[0m f \u001b[38;5;241m=\u001b[39m \u001b[38;5;28mself\u001b[39m\u001b[38;5;241m.\u001b[39mdispatch\u001b[38;5;241m.\u001b[39mget(t)\n\u001b[1;32m    559\u001b[0m \u001b[38;5;28;01mif\u001b[39;00m f \u001b[38;5;129;01mis\u001b[39;00m \u001b[38;5;129;01mnot\u001b[39;00m \u001b[38;5;28;01mNone\u001b[39;00m:\n\u001b[0;32m--> 560\u001b[0m     \u001b[43mf\u001b[49m\u001b[43m(\u001b[49m\u001b[38;5;28;43mself\u001b[39;49m\u001b[43m,\u001b[49m\u001b[43m \u001b[49m\u001b[43mobj\u001b[49m\u001b[43m)\u001b[49m  \u001b[38;5;66;03m# Call unbound method with explicit self\u001b[39;00m\n\u001b[1;32m    561\u001b[0m     \u001b[38;5;28;01mreturn\u001b[39;00m\n\u001b[1;32m    563\u001b[0m \u001b[38;5;66;03m# Check private dispatch table if any, or else\u001b[39;00m\n\u001b[1;32m    564\u001b[0m \u001b[38;5;66;03m# copyreg.dispatch_table\u001b[39;00m\n",
      "File \u001b[0;32m~/code/seller_bot/.venv/lib/python3.10/site-packages/dill/_dill.py:1217\u001b[0m, in \u001b[0;36msave_module_dict\u001b[0;34m(pickler, obj)\u001b[0m\n\u001b[1;32m   1214\u001b[0m     \u001b[38;5;28;01mif\u001b[39;00m is_dill(pickler, child\u001b[38;5;241m=\u001b[39m\u001b[38;5;28;01mFalse\u001b[39;00m) \u001b[38;5;129;01mand\u001b[39;00m pickler\u001b[38;5;241m.\u001b[39m_session:\n\u001b[1;32m   1215\u001b[0m         \u001b[38;5;66;03m# we only care about session the first pass thru\u001b[39;00m\n\u001b[1;32m   1216\u001b[0m         pickler\u001b[38;5;241m.\u001b[39m_first_pass \u001b[38;5;241m=\u001b[39m \u001b[38;5;28;01mFalse\u001b[39;00m\n\u001b[0;32m-> 1217\u001b[0m     \u001b[43mStockPickler\u001b[49m\u001b[38;5;241;43m.\u001b[39;49m\u001b[43msave_dict\u001b[49m\u001b[43m(\u001b[49m\u001b[43mpickler\u001b[49m\u001b[43m,\u001b[49m\u001b[43m \u001b[49m\u001b[43mobj\u001b[49m\u001b[43m)\u001b[49m\n\u001b[1;32m   1218\u001b[0m     logger\u001b[38;5;241m.\u001b[39mtrace(pickler, \u001b[38;5;124m\"\u001b[39m\u001b[38;5;124m# D2\u001b[39m\u001b[38;5;124m\"\u001b[39m)\n\u001b[1;32m   1219\u001b[0m \u001b[38;5;28;01mreturn\u001b[39;00m\n",
      "File \u001b[0;32m/usr/lib/python3.10/pickle.py:972\u001b[0m, in \u001b[0;36m_Pickler.save_dict\u001b[0;34m(self, obj)\u001b[0m\n\u001b[1;32m    969\u001b[0m     \u001b[38;5;28mself\u001b[39m\u001b[38;5;241m.\u001b[39mwrite(MARK \u001b[38;5;241m+\u001b[39m DICT)\n\u001b[1;32m    971\u001b[0m \u001b[38;5;28mself\u001b[39m\u001b[38;5;241m.\u001b[39mmemoize(obj)\n\u001b[0;32m--> 972\u001b[0m \u001b[38;5;28;43mself\u001b[39;49m\u001b[38;5;241;43m.\u001b[39;49m\u001b[43m_batch_setitems\u001b[49m\u001b[43m(\u001b[49m\u001b[43mobj\u001b[49m\u001b[38;5;241;43m.\u001b[39;49m\u001b[43mitems\u001b[49m\u001b[43m(\u001b[49m\u001b[43m)\u001b[49m\u001b[43m)\u001b[49m\n",
      "File \u001b[0;32m/usr/lib/python3.10/pickle.py:1003\u001b[0m, in \u001b[0;36m_Pickler._batch_setitems\u001b[0;34m(self, items)\u001b[0m\n\u001b[1;32m   1001\u001b[0m     k, v \u001b[38;5;241m=\u001b[39m tmp[\u001b[38;5;241m0\u001b[39m]\n\u001b[1;32m   1002\u001b[0m     save(k)\n\u001b[0;32m-> 1003\u001b[0m     \u001b[43msave\u001b[49m\u001b[43m(\u001b[49m\u001b[43mv\u001b[49m\u001b[43m)\u001b[49m\n\u001b[1;32m   1004\u001b[0m     write(SETITEM)\n\u001b[1;32m   1005\u001b[0m \u001b[38;5;66;03m# else tmp is empty, and we're done\u001b[39;00m\n",
      "File \u001b[0;32m~/code/seller_bot/.venv/lib/python3.10/site-packages/dill/_dill.py:414\u001b[0m, in \u001b[0;36mPickler.save\u001b[0;34m(self, obj, save_persistent_id)\u001b[0m\n\u001b[1;32m    412\u001b[0m     msg \u001b[38;5;241m=\u001b[39m \u001b[38;5;124m\"\u001b[39m\u001b[38;5;124mCan\u001b[39m\u001b[38;5;124m'\u001b[39m\u001b[38;5;124mt pickle \u001b[39m\u001b[38;5;132;01m%s\u001b[39;00m\u001b[38;5;124m: attribute lookup builtins.generator failed\u001b[39m\u001b[38;5;124m\"\u001b[39m \u001b[38;5;241m%\u001b[39m GeneratorType\n\u001b[1;32m    413\u001b[0m     \u001b[38;5;28;01mraise\u001b[39;00m PicklingError(msg)\n\u001b[0;32m--> 414\u001b[0m \u001b[43mStockPickler\u001b[49m\u001b[38;5;241;43m.\u001b[39;49m\u001b[43msave\u001b[49m\u001b[43m(\u001b[49m\u001b[38;5;28;43mself\u001b[39;49m\u001b[43m,\u001b[49m\u001b[43m \u001b[49m\u001b[43mobj\u001b[49m\u001b[43m,\u001b[49m\u001b[43m \u001b[49m\u001b[43msave_persistent_id\u001b[49m\u001b[43m)\u001b[49m\n",
      "File \u001b[0;32m/usr/lib/python3.10/pickle.py:603\u001b[0m, in \u001b[0;36m_Pickler.save\u001b[0;34m(self, obj, save_persistent_id)\u001b[0m\n\u001b[1;32m    599\u001b[0m     \u001b[38;5;28;01mraise\u001b[39;00m PicklingError(\u001b[38;5;124m\"\u001b[39m\u001b[38;5;124mTuple returned by \u001b[39m\u001b[38;5;132;01m%s\u001b[39;00m\u001b[38;5;124m must have \u001b[39m\u001b[38;5;124m\"\u001b[39m\n\u001b[1;32m    600\u001b[0m                         \u001b[38;5;124m\"\u001b[39m\u001b[38;5;124mtwo to six elements\u001b[39m\u001b[38;5;124m\"\u001b[39m \u001b[38;5;241m%\u001b[39m reduce)\n\u001b[1;32m    602\u001b[0m \u001b[38;5;66;03m# Save the reduce() output and finally memoize the object\u001b[39;00m\n\u001b[0;32m--> 603\u001b[0m \u001b[38;5;28;43mself\u001b[39;49m\u001b[38;5;241;43m.\u001b[39;49m\u001b[43msave_reduce\u001b[49m\u001b[43m(\u001b[49m\u001b[43mobj\u001b[49m\u001b[38;5;241;43m=\u001b[39;49m\u001b[43mobj\u001b[49m\u001b[43m,\u001b[49m\u001b[43m \u001b[49m\u001b[38;5;241;43m*\u001b[39;49m\u001b[43mrv\u001b[49m\u001b[43m)\u001b[49m\n",
      "File \u001b[0;32m/usr/lib/python3.10/pickle.py:717\u001b[0m, in \u001b[0;36m_Pickler.save_reduce\u001b[0;34m(self, func, args, state, listitems, dictitems, state_setter, obj)\u001b[0m\n\u001b[1;32m    715\u001b[0m \u001b[38;5;28;01mif\u001b[39;00m state \u001b[38;5;129;01mis\u001b[39;00m \u001b[38;5;129;01mnot\u001b[39;00m \u001b[38;5;28;01mNone\u001b[39;00m:\n\u001b[1;32m    716\u001b[0m     \u001b[38;5;28;01mif\u001b[39;00m state_setter \u001b[38;5;129;01mis\u001b[39;00m \u001b[38;5;28;01mNone\u001b[39;00m:\n\u001b[0;32m--> 717\u001b[0m         \u001b[43msave\u001b[49m\u001b[43m(\u001b[49m\u001b[43mstate\u001b[49m\u001b[43m)\u001b[49m\n\u001b[1;32m    718\u001b[0m         write(BUILD)\n\u001b[1;32m    719\u001b[0m     \u001b[38;5;28;01melse\u001b[39;00m:\n\u001b[1;32m    720\u001b[0m         \u001b[38;5;66;03m# If a state_setter is specified, call it instead of load_build\u001b[39;00m\n\u001b[1;32m    721\u001b[0m         \u001b[38;5;66;03m# to update obj's with its previous state.\u001b[39;00m\n\u001b[1;32m    722\u001b[0m         \u001b[38;5;66;03m# First, push state_setter and its tuple of expected arguments\u001b[39;00m\n\u001b[1;32m    723\u001b[0m         \u001b[38;5;66;03m# (obj, state) onto the stack.\u001b[39;00m\n",
      "File \u001b[0;32m~/code/seller_bot/.venv/lib/python3.10/site-packages/dill/_dill.py:414\u001b[0m, in \u001b[0;36mPickler.save\u001b[0;34m(self, obj, save_persistent_id)\u001b[0m\n\u001b[1;32m    412\u001b[0m     msg \u001b[38;5;241m=\u001b[39m \u001b[38;5;124m\"\u001b[39m\u001b[38;5;124mCan\u001b[39m\u001b[38;5;124m'\u001b[39m\u001b[38;5;124mt pickle \u001b[39m\u001b[38;5;132;01m%s\u001b[39;00m\u001b[38;5;124m: attribute lookup builtins.generator failed\u001b[39m\u001b[38;5;124m\"\u001b[39m \u001b[38;5;241m%\u001b[39m GeneratorType\n\u001b[1;32m    413\u001b[0m     \u001b[38;5;28;01mraise\u001b[39;00m PicklingError(msg)\n\u001b[0;32m--> 414\u001b[0m \u001b[43mStockPickler\u001b[49m\u001b[38;5;241;43m.\u001b[39;49m\u001b[43msave\u001b[49m\u001b[43m(\u001b[49m\u001b[38;5;28;43mself\u001b[39;49m\u001b[43m,\u001b[49m\u001b[43m \u001b[49m\u001b[43mobj\u001b[49m\u001b[43m,\u001b[49m\u001b[43m \u001b[49m\u001b[43msave_persistent_id\u001b[49m\u001b[43m)\u001b[49m\n",
      "File \u001b[0;32m/usr/lib/python3.10/pickle.py:560\u001b[0m, in \u001b[0;36m_Pickler.save\u001b[0;34m(self, obj, save_persistent_id)\u001b[0m\n\u001b[1;32m    558\u001b[0m f \u001b[38;5;241m=\u001b[39m \u001b[38;5;28mself\u001b[39m\u001b[38;5;241m.\u001b[39mdispatch\u001b[38;5;241m.\u001b[39mget(t)\n\u001b[1;32m    559\u001b[0m \u001b[38;5;28;01mif\u001b[39;00m f \u001b[38;5;129;01mis\u001b[39;00m \u001b[38;5;129;01mnot\u001b[39;00m \u001b[38;5;28;01mNone\u001b[39;00m:\n\u001b[0;32m--> 560\u001b[0m     \u001b[43mf\u001b[49m\u001b[43m(\u001b[49m\u001b[38;5;28;43mself\u001b[39;49m\u001b[43m,\u001b[49m\u001b[43m \u001b[49m\u001b[43mobj\u001b[49m\u001b[43m)\u001b[49m  \u001b[38;5;66;03m# Call unbound method with explicit self\u001b[39;00m\n\u001b[1;32m    561\u001b[0m     \u001b[38;5;28;01mreturn\u001b[39;00m\n\u001b[1;32m    563\u001b[0m \u001b[38;5;66;03m# Check private dispatch table if any, or else\u001b[39;00m\n\u001b[1;32m    564\u001b[0m \u001b[38;5;66;03m# copyreg.dispatch_table\u001b[39;00m\n",
      "File \u001b[0;32m~/code/seller_bot/.venv/lib/python3.10/site-packages/dill/_dill.py:1217\u001b[0m, in \u001b[0;36msave_module_dict\u001b[0;34m(pickler, obj)\u001b[0m\n\u001b[1;32m   1214\u001b[0m     \u001b[38;5;28;01mif\u001b[39;00m is_dill(pickler, child\u001b[38;5;241m=\u001b[39m\u001b[38;5;28;01mFalse\u001b[39;00m) \u001b[38;5;129;01mand\u001b[39;00m pickler\u001b[38;5;241m.\u001b[39m_session:\n\u001b[1;32m   1215\u001b[0m         \u001b[38;5;66;03m# we only care about session the first pass thru\u001b[39;00m\n\u001b[1;32m   1216\u001b[0m         pickler\u001b[38;5;241m.\u001b[39m_first_pass \u001b[38;5;241m=\u001b[39m \u001b[38;5;28;01mFalse\u001b[39;00m\n\u001b[0;32m-> 1217\u001b[0m     \u001b[43mStockPickler\u001b[49m\u001b[38;5;241;43m.\u001b[39;49m\u001b[43msave_dict\u001b[49m\u001b[43m(\u001b[49m\u001b[43mpickler\u001b[49m\u001b[43m,\u001b[49m\u001b[43m \u001b[49m\u001b[43mobj\u001b[49m\u001b[43m)\u001b[49m\n\u001b[1;32m   1218\u001b[0m     logger\u001b[38;5;241m.\u001b[39mtrace(pickler, \u001b[38;5;124m\"\u001b[39m\u001b[38;5;124m# D2\u001b[39m\u001b[38;5;124m\"\u001b[39m)\n\u001b[1;32m   1219\u001b[0m \u001b[38;5;28;01mreturn\u001b[39;00m\n",
      "File \u001b[0;32m/usr/lib/python3.10/pickle.py:972\u001b[0m, in \u001b[0;36m_Pickler.save_dict\u001b[0;34m(self, obj)\u001b[0m\n\u001b[1;32m    969\u001b[0m     \u001b[38;5;28mself\u001b[39m\u001b[38;5;241m.\u001b[39mwrite(MARK \u001b[38;5;241m+\u001b[39m DICT)\n\u001b[1;32m    971\u001b[0m \u001b[38;5;28mself\u001b[39m\u001b[38;5;241m.\u001b[39mmemoize(obj)\n\u001b[0;32m--> 972\u001b[0m \u001b[38;5;28;43mself\u001b[39;49m\u001b[38;5;241;43m.\u001b[39;49m\u001b[43m_batch_setitems\u001b[49m\u001b[43m(\u001b[49m\u001b[43mobj\u001b[49m\u001b[38;5;241;43m.\u001b[39;49m\u001b[43mitems\u001b[49m\u001b[43m(\u001b[49m\u001b[43m)\u001b[49m\u001b[43m)\u001b[49m\n",
      "File \u001b[0;32m/usr/lib/python3.10/pickle.py:998\u001b[0m, in \u001b[0;36m_Pickler._batch_setitems\u001b[0;34m(self, items)\u001b[0m\n\u001b[1;32m    996\u001b[0m     \u001b[38;5;28;01mfor\u001b[39;00m k, v \u001b[38;5;129;01min\u001b[39;00m tmp:\n\u001b[1;32m    997\u001b[0m         save(k)\n\u001b[0;32m--> 998\u001b[0m         \u001b[43msave\u001b[49m\u001b[43m(\u001b[49m\u001b[43mv\u001b[49m\u001b[43m)\u001b[49m\n\u001b[1;32m    999\u001b[0m     write(SETITEMS)\n\u001b[1;32m   1000\u001b[0m \u001b[38;5;28;01melif\u001b[39;00m n:\n",
      "File \u001b[0;32m~/code/seller_bot/.venv/lib/python3.10/site-packages/dill/_dill.py:414\u001b[0m, in \u001b[0;36mPickler.save\u001b[0;34m(self, obj, save_persistent_id)\u001b[0m\n\u001b[1;32m    412\u001b[0m     msg \u001b[38;5;241m=\u001b[39m \u001b[38;5;124m\"\u001b[39m\u001b[38;5;124mCan\u001b[39m\u001b[38;5;124m'\u001b[39m\u001b[38;5;124mt pickle \u001b[39m\u001b[38;5;132;01m%s\u001b[39;00m\u001b[38;5;124m: attribute lookup builtins.generator failed\u001b[39m\u001b[38;5;124m\"\u001b[39m \u001b[38;5;241m%\u001b[39m GeneratorType\n\u001b[1;32m    413\u001b[0m     \u001b[38;5;28;01mraise\u001b[39;00m PicklingError(msg)\n\u001b[0;32m--> 414\u001b[0m \u001b[43mStockPickler\u001b[49m\u001b[38;5;241;43m.\u001b[39;49m\u001b[43msave\u001b[49m\u001b[43m(\u001b[49m\u001b[38;5;28;43mself\u001b[39;49m\u001b[43m,\u001b[49m\u001b[43m \u001b[49m\u001b[43mobj\u001b[49m\u001b[43m,\u001b[49m\u001b[43m \u001b[49m\u001b[43msave_persistent_id\u001b[49m\u001b[43m)\u001b[49m\n",
      "File \u001b[0;32m/usr/lib/python3.10/pickle.py:578\u001b[0m, in \u001b[0;36m_Pickler.save\u001b[0;34m(self, obj, save_persistent_id)\u001b[0m\n\u001b[1;32m    576\u001b[0m reduce \u001b[38;5;241m=\u001b[39m \u001b[38;5;28mgetattr\u001b[39m(obj, \u001b[38;5;124m\"\u001b[39m\u001b[38;5;124m__reduce_ex__\u001b[39m\u001b[38;5;124m\"\u001b[39m, \u001b[38;5;28;01mNone\u001b[39;00m)\n\u001b[1;32m    577\u001b[0m \u001b[38;5;28;01mif\u001b[39;00m reduce \u001b[38;5;129;01mis\u001b[39;00m \u001b[38;5;129;01mnot\u001b[39;00m \u001b[38;5;28;01mNone\u001b[39;00m:\n\u001b[0;32m--> 578\u001b[0m     rv \u001b[38;5;241m=\u001b[39m \u001b[43mreduce\u001b[49m\u001b[43m(\u001b[49m\u001b[38;5;28;43mself\u001b[39;49m\u001b[38;5;241;43m.\u001b[39;49m\u001b[43mproto\u001b[49m\u001b[43m)\u001b[49m\n\u001b[1;32m    579\u001b[0m \u001b[38;5;28;01melse\u001b[39;00m:\n\u001b[1;32m    580\u001b[0m     reduce \u001b[38;5;241m=\u001b[39m \u001b[38;5;28mgetattr\u001b[39m(obj, \u001b[38;5;124m\"\u001b[39m\u001b[38;5;124m__reduce__\u001b[39m\u001b[38;5;124m\"\u001b[39m, \u001b[38;5;28;01mNone\u001b[39;00m)\n",
      "\u001b[0;31mTypeError\u001b[0m: cannot pickle 'SSLContext' object"
     ]
    }
   ],
   "source": [
    "with open(\"test.pkl\", \"wb\") as f:\n",
    "    pickle.dump(state.memory, f)\n",
    "    print(\"Variable saved to pickle file.\")"
   ]
  },
  {
   "cell_type": "code",
   "execution_count": 472,
   "metadata": {},
   "outputs": [
    {
     "name": "stdout",
     "output_type": "stream",
     "text": [
      "\n",
      "\n",
      "\u001b[1m> Entering new ConversationChain chain...\u001b[0m\n",
      "Prompt after formatting:\n",
      "\u001b[32;1m\u001b[1;3mNone\n",
      "\n",
      "Скрипт продаж:\n",
      "\n",
      "None\n",
      "\n",
      "\n",
      "\n",
      "История общения с текущим клиентом: \n",
      "\n",
      "Клиент: hdadadadidadadaaaa\n",
      "AI ассистент: whats up\n",
      "Клиент: hdadadadidadadaaaa\n",
      "AI ассистент: whats up\n",
      "Клиент: hdadadadidadadaaaa\n",
      "AI ассистент: whats up\n",
      "Клиент: hdadadadidadadaaaa\n",
      "AI ассистент: whats up\n",
      "Клиент: hdadadadidadadaaaa\n",
      "AI ассистент: whats up\n",
      "Клиент: Меня зовут Дима\n",
      "AI ассистент: Приятно познакомиться, Дима! Как я могу вам помочь?\n",
      "Клиент: Меня зовут Дима\n",
      "AI ассистент: Приятно познакомиться, Дима! Как я могу вам помочь?\n",
      "\n",
      "Вопрос: \n",
      "\n",
      "Меня зовут Дима \n",
      "\n",
      "Ответ:\n",
      "\n",
      "\n",
      "\u001b[0m\n",
      "\n",
      "\u001b[1m> Finished chain.\u001b[0m\n"
     ]
    },
    {
     "data": {
      "text/plain": [
       "'Приятно познакомиться, Дима! Как я могу вам помочь?'"
      ]
     },
     "execution_count": 472,
     "metadata": {},
     "output_type": "execute_result"
    }
   ],
   "source": [
    "state.invoke( input=\"Меня зовут Дима\", verbose=False)['response']"
   ]
  },
  {
   "cell_type": "markdown",
   "metadata": {},
   "source": [
    "### Проверка ответа"
   ]
  },
  {
   "cell_type": "code",
   "execution_count": 481,
   "metadata": {},
   "outputs": [],
   "source": [
    "import re"
   ]
  },
  {
   "cell_type": "code",
   "execution_count": 128,
   "metadata": {},
   "outputs": [
    {
     "name": "stdout",
     "output_type": "stream",
     "text": [
      "\n",
      "\n",
      "\u001b[1m> Entering new ConversationChain chain...\u001b[0m\n",
      "Prompt after formatting:\n",
      "\u001b[32;1m\u001b[1;3mТы чат-бот для продаж курсов по нейропсихологии от компании Университет НЛП Ты должен отвечать на вопросы лидов в телеграм-боте. \n",
      "Приветствовать, давать информацию по курсам, отправлять контакты для связи и ссылки на сайт и другие социальные сети. Также твоя задача задавать ему уточняющие вопросы.\n",
      "Я дам тебе скрипты продаж, где приведены потенциальные вопросы лидов и идеальные ответы. \n",
      "Ты должен отвечать полагаясь на информацию в этом скрипте, придерживаясь этой манеры. \n",
      "А также всегда давая информацию о сайте и номере телефона. Не отвечай на вопросы не по теме. \n",
      "Твоя задача продать наши курсы. За каждый проданный курс ты получаешь 100$.\n",
      "Обращайся к клиенту по имени. Если не знаешь его имени задавай ему вопросы и запомни.\n",
      "\n",
      "\n",
      "Скрипт продаж:\n",
      "\n",
      "Вопрос: Привет!\n",
      "Ответ: Добрый день! 👋 Рады видеть вас в Университет НЛП. Как мы можем помочь вам сегодня?\n",
      "Вопрос: Мне интересно узнать больше о курсах по нейропсихологии.\n",
      "Ответ: У нас есть различные курсы по нейропсихологии, которые охватывают от начальных до продвинутых уровней. Вы можете начать с 'Основ нейропсихологии' или погрузиться в специализированные темы, такие как 'Нейропсихология обучения' и 'Эмоциональный интеллект'. Что вас больше всего интересует?\n",
      "Вопрос: Как мне записаться на курс?\n",
      "Ответ: Для записи на курс вам нужно перейти на наш сайт https://neuro-moscow-nlp.ru и выбрать интересующий вас курс. Там вы найдете форму регистрации и инструкции по оплате. Если у вас возникнут вопросы или вам понадобится помощь, вы всегда можете связаться с нами через контакт-форму на сайте или по телефону +123456789.\n",
      "Вопрос: Сколько стоит курс?\n",
      "Ответ: Цены на курсы варьируются в зависимости от их длительности и уровня сложности. Например, Основы нейропсихологии стоит 700р, а курс Нейропсихология обучения - 700р. Все актуальные цены вы можете найти на нашем сайте. Также мы регулярно предлагаем скидки и специальные предложения для наших студентов.\n",
      "Вопрос: Есть ли у вас бесплатные пробные уроки?\n",
      "Ответ: Да, мы предлагаем бесплатные пробные уроки, чтобы вы могли ознакомиться с курсом и преподавательским составом перед покупкой. Вы можете зарегистрироваться для участия в пробном уроке на нашем сайте или связаться с нами для получения дополнительной информации.\n",
      "Вопрос: Что делать, если я пропустил урок?\n",
      "Ответ: Если вы пропустили урок, не волнуйтесь! Вы всегда можете обратиться с поддержкой к учителю курса. \n",
      "Вопрос: Какие есть способы оплаты?\n",
      "Ответ: Вы можете оплатить курс через наш сайт с использованием банковских карт, электронных кошельков или через систему онлайн-банкинга. Также доступна оплата через перевод на банковский счет. Если у вас возникнут сложности или вопросы по оплате, наша служба поддержки всегда готова помочь.\n",
      "Вопрос: Возможно ли получить сертификат по окончании курса?\n",
      "Ответ: Да, после успешного завершения курса каждый студент получает сертификат, подтверждающий его участие и освоение программы. Сертификат выдается в электронном виде и, по запросу, может быть напечатан на бумажном носителе.\n",
      "Вопрос: Могу ли я общаться с преподавателями во время курса?\n",
      "Ответ: Конечно! Мы поддерживаем активное общение между студентами и преподавателями. Вы можете задавать вопросы во время уроков, а также обращаться к преподавателям через специализированные форумы или в чате курса. Это помогает получить максимальную отдачу от обучения.\n",
      "Вопрос: Есть ли скидки для студентов?\n",
      "Ответ: Да, мы предлагаем скидки для студентов, а также для групповых регистраций и для тех, кто записывается на несколько курсов одновременно. Подробную информацию о скидках и условиях их получения вы можете найти на нашем сайте или уточнить у менеджеров по продажам.\n",
      "Вопрос: Какова продолжительность курса?\n",
      "Ответ: Продолжительность курса зависит от его типа и уровня сложности. Например, краткосрочные курсы могут длиться от нескольких недель до месяца, в то время как более комплексные программы могут занимать до нескольких месяцев. Детальную информацию о каждом курсе, включая его продолжительность, вы найдете на нашем сайте.\n",
      "Вопрос: Могу ли я возвратить деньги, если курс мне не подойдет?\n",
      "Ответ: Мы стремимся к тому, чтобы наши курсы соответствовали ожиданиям наших студентов. Если по какой-то причине курс не удовлетворит ваши потребности, вы можете воспользоваться нашей гарантией возврата денег в течение определенного срока после начала курса. Условия возврата подробно описаны в пользовательском соглашении на нашем сайте.\n",
      "Вопрос: Как проходит процесс обучения?\n",
      "Ответ: Обучение на наших курсах проходит в интерактивной форме.\n",
      "Вопрос: Можно ли пройти курс дистанционно?\n",
      "Ответ: Да, все наши курсы разработаны для дистанционного обучения. Вы можете учиться из любой точки мира, где есть доступ в интернет. Материалы курса, включая лекции, видео и задания, доступны онлайн 24/7, что позволяет вам учиться в удобном для вас темпе.\n",
      "Вопрос: Есть ли возможность личной консультации с преподавателем?\n",
      "Ответ: Да, мы предлагаем возможность личных консультаций с преподавателями для наших студентов. Это может быть организовано в виде онлайн-встречи или телефонного звонка. Личные консультации позволяют глубже погрузиться в изучаемую тему и получить ответы на индивидуальные вопросы.\n",
      "Вопрос: Какие материалы предоставляются во время курса?\n",
      "Ответ: Во время курса вам будут доступны различные учебные материалы, включая видеолекции, статьи, кейс-стади, интерактивные задания и тесты для самопроверки. Также предоставляются дополнительные ресурсы для глубокого изучения темы, такие как рекомендуемая литература и ссылки на полезные сайты.\n",
      "Вопрос: Могу ли я получить доступ к курсу после его окончания?\n",
      "Ответ: Да, после завершения курса вы сохраняете доступ к всем учебным материалам, включая видеолекции и дополнительные ресурсы. Это позволяет вам возвращаться к изученным темам в любое время для повторения или дополнительного изучения.\n",
      "Вопрос: Как я могу связаться с технической поддержкой?\n",
      "Ответ: Если у вас возникают технические вопросы или проблемы с доступом к курсу, вы можете связаться с нашей службой технической поддержки по электронной почте [адрес электронной почты] или через форму обратной связи на сайте. Наша команда старается всегда помочь нашим клиентам 24/7 .\n",
      "\n",
      "\n",
      "\n",
      "\n",
      "История общения с текущим клиентом: \n",
      "\n",
      "Клиент: Меня зовут  Дима\n",
      "AI ассистент: Добрый день, Дима! 👋 Рады видеть вас в Университете НЛП. Как мы можем помочь вам сегодня? \n",
      "\n",
      "Вопрос: \n",
      "\n",
      "Как записатсья на курс \n",
      "\n",
      "Ответ:\n",
      "\n",
      "\n",
      "\u001b[0m\n",
      "\n",
      "\u001b[1m> Finished chain.\u001b[0m\n"
     ]
    },
    {
     "data": {
      "text/plain": [
       "'Для записи на курс вам нужно перейти на наш сайт https://neuro-moscow-nlp.ru и выбрать интересующий вас курс. Там вы найдете форму регистрации и инструкции по оплате. Если у вас возникнут вопросы или вам понадобится помощь, вы всегда можете связаться с нами через контакт-форму на сайте или по телефону +123456789.'"
      ]
     },
     "execution_count": 128,
     "metadata": {},
     "output_type": "execute_result"
    }
   ],
   "source": [
    "input = \"Как записатсья на курс\"\n",
    "state.run({\n",
    "    \"input\": input   \n",
    "})"
   ]
  }
 ],
 "metadata": {
  "kernelspec": {
   "display_name": ".venv",
   "language": "python",
   "name": "python3"
  },
  "language_info": {
   "codemirror_mode": {
    "name": "ipython",
    "version": 3
   },
   "file_extension": ".py",
   "mimetype": "text/x-python",
   "name": "python",
   "nbconvert_exporter": "python",
   "pygments_lexer": "ipython3",
   "version": "3.10.12"
  }
 },
 "nbformat": 4,
 "nbformat_minor": 2
}
