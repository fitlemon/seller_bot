{
 "cells": [
  {
   "cell_type": "code",
   "execution_count": 1,
   "metadata": {},
   "outputs": [],
   "source": [
    "from environs import Env\n",
    "\n",
    "from langchain_openai import ChatOpenAI\n",
    "from langchain_openai import OpenAIEmbeddings\n",
    "from langchain.memory import ConversationBufferMemory, ConversationBufferWindowMemory\n",
    "from langchain.chains import ConversationChain\n",
    "from langchain.embeddings.huggingface import HuggingFaceInstructEmbeddings\n",
    "from langchain.vectorstores.faiss import FAISS\n",
    "from langchain.text_splitter import CharacterTextSplitter\n",
    "from langchain.prompts.prompt import PromptTemplate\n"
   ]
  },
  {
   "cell_type": "code",
   "execution_count": 2,
   "metadata": {},
   "outputs": [
    {
     "data": {
      "text/plain": [
       "True"
      ]
     },
     "execution_count": 2,
     "metadata": {},
     "output_type": "execute_result"
    }
   ],
   "source": [
    "# import env config file\n",
    "env = Env()\n",
    "env.read_env('../.env', recurse=False)"
   ]
  },
  {
   "cell_type": "code",
   "execution_count": 16,
   "metadata": {},
   "outputs": [],
   "source": [
    "def get_text_chunks(text):\n",
    "    text_splitter = CharacterTextSplitter(\n",
    "        separator=\"\\n\", chunk_size=1000, chunk_overlap=200, length_function=len\n",
    "    )\n",
    "    chunks = text_splitter.split_text(text)\n",
    "    return chunks"
   ]
  },
  {
   "cell_type": "code",
   "execution_count": 41,
   "metadata": {},
   "outputs": [],
   "source": [
    "def get_vectorstore(text_chunks):\n",
    "    embeddings = OpenAIEmbeddings(openai_api_key=env(\"OPENAI_TOKEN\"))\n",
    "    vectorstore = FAISS.from_texts(texts=text_chunks, embedding=embeddings)\n",
    "    return vectorstore"
   ]
  },
  {
   "cell_type": "code",
   "execution_count": 44,
   "metadata": {},
   "outputs": [],
   "source": [
    "def get_conversation_chain(vectorstore):\n",
    "    llm = ChatOpenAI(openai_api_key=env(\"OPENAI_TOKEN\"))\n",
    "    # llm = HuggingFaceHub(\n",
    "    #     repo_id=\"google/flan-t5-xxl\",\n",
    "    #     model_kwargs={\"temperature\": 0.5, \"max_length\": 512},\n",
    "    # )\n",
    "    memory = ConversationBufferMemory(memory_key=\"chat_history\", return_messages=True)\n",
    "    conversation_chain = ConversationChain.from_llm(\n",
    "        llm=llm, memory=memory\n",
    "    )\n",
    "    return conversation_chain"
   ]
  },
  {
   "cell_type": "code",
   "execution_count": 14,
   "metadata": {},
   "outputs": [],
   "source": [
    "with open('../docs/traing_gpt.txt', 'r') as f:\n",
    "    system_prompt = f.read()"
   ]
  },
  {
   "cell_type": "code",
   "execution_count": 39,
   "metadata": {},
   "outputs": [],
   "source": [
    "# get the text chunks\n",
    "text_chunks = get_text_chunks(system_prompt)"
   ]
  },
  {
   "cell_type": "code",
   "execution_count": 43,
   "metadata": {},
   "outputs": [],
   "source": [
    "# create vector store\n",
    "vectorstore = get_vectorstore(text_chunks)"
   ]
  },
  {
   "cell_type": "code",
   "execution_count": 45,
   "metadata": {},
   "outputs": [],
   "source": [
    "# create conversation chain\n",
    "state = get_conversation_chain(vectorstore)"
   ]
  },
  {
   "cell_type": "code",
   "execution_count": 48,
   "metadata": {},
   "outputs": [
    {
     "data": {
      "text/plain": [
       "{'question': 'А сколько они стоят',\n",
       " 'chat_history': [HumanMessage(content='Как дела?'),\n",
       "  AIMessage(content='Добрый день! Я всего лишь бот, поэтому не могу иметь настроения или делиться своими эмоциями. Но я готов ответить на ваши вопросы и помочь вам с курсами по нейропсихологии. Какая информация вас интересует?'),\n",
       "  HumanMessage(content='Привет'),\n",
       "  AIMessage(content=\"У нас есть различные курсы по нейропсихологии, которые охватывают от начальных до продвинутых уровней. Вы можете начать с 'Основ нейропсихологии' или погрузиться в специализированные темы, такие как 'Нейропсихология обучения' и 'Эмоциональный интеллект'. Что вас больше всего интересует?\"),\n",
       "  HumanMessage(content='А сколько они стоят'),\n",
       "  AIMessage(content='Цены на курсы варьируются в зависимости от их длительности и уровня сложности. Например, Основы нейропсихологии стоит 700р, а курс Нейропсихология обучения - 700р. Все актуальные цены вы можете найти на нашем сайте. Также мы регулярно предлагаем скидки и специальные предложения для наших студентов.')],\n",
       " 'answer': 'Цены на курсы варьируются в зависимости от их длительности и уровня сложности. Например, Основы нейропсихологии стоит 700р, а курс Нейропсихология обучения - 700р. Все актуальные цены вы можете найти на нашем сайте. Также мы регулярно предлагаем скидки и специальные предложения для наших студентов.'}"
      ]
     },
     "execution_count": 48,
     "metadata": {},
     "output_type": "execute_result"
    }
   ],
   "source": [
    "state('А сколько они стоят')"
   ]
  },
  {
   "cell_type": "code",
   "execution_count": 50,
   "metadata": {},
   "outputs": [
    {
     "data": {
      "text/plain": [
       "[]"
      ]
     },
     "execution_count": 50,
     "metadata": {},
     "output_type": "execute_result"
    }
   ],
   "source": [
    "state."
   ]
  },
  {
   "cell_type": "code",
   "execution_count": 4,
   "metadata": {},
   "outputs": [
    {
     "name": "stdout",
     "output_type": "stream",
     "text": [
      "К сожалению, я не могу узнать, как вас зовут, так как я всего лишь чат-бот.\n"
     ]
    }
   ],
   "source": [
    "response = client.chat.completions.create(\n",
    "  model=\"gpt-3.5-turbo\",\n",
    "  messages=[\n",
    "    {\"role\": \"system\", \"content\": system_prompt},\n",
    "    {\"role\": \"user\", \"content\": \"Как меня зовут\"}\n",
    "  ]\n",
    ")\n",
    "print(response.choices[0].message.content)"
   ]
  }
 ],
 "metadata": {
  "kernelspec": {
   "display_name": ".venv",
   "language": "python",
   "name": "python3"
  },
  "language_info": {
   "codemirror_mode": {
    "name": "ipython",
    "version": 3
   },
   "file_extension": ".py",
   "mimetype": "text/x-python",
   "name": "python",
   "nbconvert_exporter": "python",
   "pygments_lexer": "ipython3",
   "version": "3.10.12"
  }
 },
 "nbformat": 4,
 "nbformat_minor": 2
}
